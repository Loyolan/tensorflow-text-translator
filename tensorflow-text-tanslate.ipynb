{
 "cells": [
  {
   "cell_type": "code",
   "execution_count": 2,
   "id": "0ffb9d3f-aa0d-489f-bc63-6a4b0d25ad71",
   "metadata": {},
   "outputs": [],
   "source": [
    "import os\n",
    "import numpy as np\n",
    "import typing\n",
    "from typing import Any, Tuple\n",
    "import tensorflow as tf\n",
    "import tensorflow_text as tf_text\n",
    "import matplotlib.pyplot as plt\n",
    "import matplotlib.ticker as ticker\n",
    "os.environ['KMP_DUPLICATE_LIB_OK']='True'"
   ]
  },
  {
   "cell_type": "code",
   "execution_count": 3,
   "id": "65e40ade-b8cd-4acd-aaee-89142658097c",
   "metadata": {},
   "outputs": [],
   "source": [
    "import pathlib"
   ]
  },
  {
   "cell_type": "code",
   "execution_count": 9,
   "id": "222708a9-be4d-4194-8604-8683c8cdea1e",
   "metadata": {},
   "outputs": [
    {
     "data": {
      "text/plain": [
       "WindowsPath('data/fra-eng/fra.txt')"
      ]
     },
     "execution_count": 9,
     "metadata": {},
     "output_type": "execute_result"
    }
   ],
   "source": [
    "path_to_file = pathlib.Path('./data/fra-eng/fra.txt')\n",
    "path_to_file"
   ]
  },
  {
   "cell_type": "code",
   "execution_count": 27,
   "id": "8cb82e3c-2eea-4b17-beca-4720709e8e0c",
   "metadata": {},
   "outputs": [
    {
     "name": "stdout",
     "output_type": "stream",
     "text": [
      "['Va !']\n",
      "['Go.']\n"
     ]
    }
   ],
   "source": [
    "def load_data(path):\n",
    "    text = path.read_text(encoding='utf-8')\n",
    "    lines = text.splitlines()\n",
    "    pairs = [line.split('\\t') for line in lines]\n",
    "    pairs = [pair[:2] for pair in pairs]\n",
    "    inp = [inp for targ, inp in pairs]\n",
    "    targ = [targ for targ, inp in pairs]\n",
    "\n",
    "    return targ, inp\n",
    "\n",
    "targ, inp = load_data(path_to_file)\n",
    "print(inp[:1])\n",
    "print(targ[:1])"
   ]
  },
  {
   "cell_type": "markdown",
   "id": "bdacc315-cf16-4336-9acc-ee2da4d55583",
   "metadata": {},
   "source": [
    "### CREER UN ENSEMBLE DE DONNEES\n",
    "CHAINES BATTAGES ET LOTS"
   ]
  },
  {
   "cell_type": "code",
   "execution_count": 28,
   "id": "ec926f3c-f7f6-4c20-a8a5-0cb4badfc3f2",
   "metadata": {},
   "outputs": [
    {
     "data": {
      "text/plain": [
       "<BatchDataset element_spec=(TensorSpec(shape=(None,), dtype=tf.string, name=None), TensorSpec(shape=(None,), dtype=tf.string, name=None))>"
      ]
     },
     "execution_count": 28,
     "metadata": {},
     "output_type": "execute_result"
    }
   ],
   "source": [
    "BUFFER_SIZE = len(inp)\n",
    "BATCH_SIZE = 64\n",
    "dataset = tf.data.Dataset.from_tensor_slices((inp, targ)).shuffle(BUFFER_SIZE)\n",
    "dataset = dataset.batch(BATCH_SIZE)\n",
    "dataset"
   ]
  },
  {
   "cell_type": "code",
   "execution_count": 29,
   "id": "09539586-4700-4ef7-87b9-4ca13c759a7a",
   "metadata": {},
   "outputs": [
    {
     "name": "stdout",
     "output_type": "stream",
     "text": [
      "tf.Tensor(\n",
      "[b\"Qu'est-ce que tu as r\\xc3\\xa9pondu\\xe2\\x80\\xaf?\"\n",
      " b'Ils sont tous terrifi\\xc3\\xa9s.'\n",
      " b\"Je savais que \\xc3\\xa7a t'int\\xc3\\xa9resserait.\"\n",
      " b\"Elle a pleur\\xc3\\xa9 lorsqu'elle a entendu l'histoire.\"\n",
      " b'Tom insista pour y aller seul.'], shape=(5,), dtype=string)\n",
      "\n",
      "tf.Tensor(\n",
      "[b'What did you answer?' b\"They're all terrified.\"\n",
      " b'I knew that would interest you.' b'She cried when she heard the story.'\n",
      " b'Tom insisted on going alone.'], shape=(5,), dtype=string)\n"
     ]
    }
   ],
   "source": [
    "for example_input_batch, example_target_batch in dataset.take(1):\n",
    "    print(example_input_batch[:5])\n",
    "    print()\n",
    "    print(example_target_batch[:5])\n",
    "    break"
   ]
  },
  {
   "cell_type": "markdown",
   "id": "63937ea8-39f2-498e-b24d-15132fc33699",
   "metadata": {},
   "source": [
    "### TEXT PREPROCESSING\n",
    "NORMALISATION UNICODE"
   ]
  },
  {
   "cell_type": "code",
   "execution_count": 39,
   "id": "341df93f-8b11-4316-a167-e6959945291a",
   "metadata": {},
   "outputs": [
    {
     "name": "stdout",
     "output_type": "stream",
     "text": [
      "b\"J'\\xc3\\xa9tais l\\xc3\\xa0!\"\n",
      "b\"J'e\\xcc\\x81tais la\\xcc\\x80!\"\n"
     ]
    }
   ],
   "source": [
    "example_text = tf.constant(\"J\\'étais là!\")\n",
    "print(example_text.numpy())\n",
    "print(tf_text.normalize_utf8(example_text, 'NFKD').numpy())"
   ]
  },
  {
   "cell_type": "code",
   "execution_count": 43,
   "id": "50dca5ed-8e55-403d-94d9-95925e530815",
   "metadata": {},
   "outputs": [],
   "source": [
    "def tf_lower_and_split_punct(text):\n",
    "    # Split accented characters\n",
    "    text = tf_text.normalize_utf8(text, 'NFKD')\n",
    "    text = tf.strings.lower(text)\n",
    "    # Keep space, a to z, and select punctuation\n",
    "    text = tf.strings.regex_replace(text, '[^ a-z.?!,\\']', '')\n",
    "    # Add spaces around punctuation\n",
    "    text = tf.strings.regex_replace(text, '[.?!,\\']', r' \\0 ')\n",
    "    # Strip whitespace\n",
    "    text = tf.strings.strip(text)\n",
    "    text = tf.strings.join(['[START]', text, '[END]'], separator=' ')\n",
    "    return text"
   ]
  },
  {
   "cell_type": "code",
   "execution_count": 44,
   "id": "e5ecdbdf-4245-4d5e-ab19-89e50524a26e",
   "metadata": {},
   "outputs": [
    {
     "name": "stdout",
     "output_type": "stream",
     "text": [
      "J'étais là!\n",
      "[START] j ' etais la ! [END]\n"
     ]
    }
   ],
   "source": [
    "print(example_text.numpy().decode())\n",
    "print(tf_lower_and_split_punct(example_text).numpy().decode())"
   ]
  },
  {
   "cell_type": "markdown",
   "id": "32fc0234-fc07-4226-b2d5-b4a13461f480",
   "metadata": {},
   "source": [
    "VECTORISATION DU TEXTE"
   ]
  },
  {
   "cell_type": "code",
   "execution_count": 45,
   "id": "ef946386-c2e1-44dc-8633-97c9f1f47fc4",
   "metadata": {},
   "outputs": [],
   "source": [
    "max_vocab_size = 5000\n",
    "input_text_processor = tf.keras.layers.TextVectorization(\n",
    "    standardize=tf_lower_and_split_punct,\n",
    "    max_tokens=max_vocab_size\n",
    ")"
   ]
  },
  {
   "cell_type": "code",
   "execution_count": 46,
   "id": "4a0be91e-6efe-4ee6-8f8c-691f8143f1fc",
   "metadata": {},
   "outputs": [
    {
     "data": {
      "text/plain": [
       "['', '[UNK]', '[START]', '[END]', '.', \"'\", 'je', 'a', 'de', '?']"
      ]
     },
     "execution_count": 46,
     "metadata": {},
     "output_type": "execute_result"
    }
   ],
   "source": [
    "input_text_processor.adapt(inp)\n",
    "input_text_processor.get_vocabulary()[:10]"
   ]
  },
  {
   "cell_type": "code",
   "execution_count": 47,
   "id": "c615b92e-6128-4763-8b58-f74b183daaf9",
   "metadata": {},
   "outputs": [
    {
     "data": {
      "text/plain": [
       "['', '[UNK]', '[START]', '[END]', '.', \"'\", 'i', 'you', 'to', 'the']"
      ]
     },
     "execution_count": 47,
     "metadata": {},
     "output_type": "execute_result"
    }
   ],
   "source": [
    "output_text_processor = tf.keras.layers.TextVectorization(\n",
    "    standardize=tf_lower_and_split_punct,\n",
    "    max_tokens=max_vocab_size\n",
    ")\n",
    "output_text_processor.adapt(targ)\n",
    "output_text_processor.get_vocabulary()[:10]"
   ]
  },
  {
   "cell_type": "code",
   "execution_count": 48,
   "id": "24fb8e66-cdb4-4be8-8f0a-a30ba760a1b5",
   "metadata": {},
   "outputs": [
    {
     "data": {
      "text/plain": [
       "<tf.Tensor: shape=(3, 10), dtype=int64, numpy=\n",
       "array([[   2,   36,    5,   61,   11,   25,   91, 1087,    9,    3],\n",
       "       [   2,   70,   63,   99,    1,    4,    3,    0,    0,    0],\n",
       "       [   2,    6,  266,   11,   39,   73,    5, 4865,    4,    3]],\n",
       "      dtype=int64)>"
      ]
     },
     "execution_count": 48,
     "metadata": {},
     "output_type": "execute_result"
    }
   ],
   "source": [
    "example_tokens = input_text_processor(example_input_batch)\n",
    "example_tokens[:3, :10]"
   ]
  },
  {
   "cell_type": "markdown",
   "id": "660c0a06-7707-4a79-9b57-f83502f1fcda",
   "metadata": {},
   "source": [
    "CONVERTIR LES ID DE JETON EN TEXTE"
   ]
  },
  {
   "cell_type": "code",
   "execution_count": 49,
   "id": "ed1880d0-0596-4ca2-abbb-236133f219ff",
   "metadata": {},
   "outputs": [
    {
     "data": {
      "text/plain": [
       "\"[START] qu ' estce que tu as repondu ? [END]             \""
      ]
     },
     "execution_count": 49,
     "metadata": {},
     "output_type": "execute_result"
    }
   ],
   "source": [
    "input_vocab = np.array(input_text_processor.get_vocabulary())\n",
    "tokens = input_vocab[example_tokens[0].numpy()]\n",
    "' '.join(tokens)"
   ]
  },
  {
   "cell_type": "markdown",
   "id": "282ac388-1a42-47db-b59d-16af161809a8",
   "metadata": {},
   "source": [
    "TRANSFORMER ID DE JETON EN MASQUE"
   ]
  },
  {
   "cell_type": "code",
   "execution_count": null,
   "id": "68f8987f-abea-425b-a971-5b2c009525fe",
   "metadata": {},
   "outputs": [
    {
     "data": {
      "text/plain": [
       "Text(0.5, 1.0, 'Mask')"
      ]
     },
     "execution_count": 52,
     "metadata": {},
     "output_type": "execute_result"
    },
    {
     "data": {
      "image/png": "[encoded data removed]",
      "text/plain": [
       "<Figure size 640x480 with 2 Axes>"
      ]
     },
     "metadata": {},
     "output_type": "display_data"
    }
   ],
   "source": [
    "plt.subplot(1, 2, 1)\n",
    "plt.pcolormesh(example_tokens)\n",
    "plt.title('Token IDs')\n",
    "plt.subplot(1, 2, 2)\n",
    "plt.pcolormesh(example_tokens != 0)\n",
    "plt.title('Mask')"
   ]
  },
  {
   "cell_type": "markdown",
   "id": "9d0c1a88-727e-403f-bc41-726920df8c24",
   "metadata": {},
   "source": [
    "### MODEL ENCODEUR/DECODEUR"
   ]
  },
  {
   "cell_type": "code",
   "execution_count": 53,
   "id": "8aaffd09-24ac-4e29-8307-5275f13ef305",
   "metadata": {},
   "outputs": [],
   "source": [
    "embedding_dim = 256\n",
    "units = 1024"
   ]
  },
  {
   "cell_type": "markdown",
   "id": "ccda6eaf-fc98-4bb7-b5a0-69894008cf3b",
   "metadata": {},
   "source": [
    "CLASS DE VERIFICATION DE FORME ()"
   ]
  },
  {
   "cell_type": "code",
   "execution_count": 62,
   "id": "487d9519-2808-4894-89e6-35be95f5a6f2",
   "metadata": {},
   "outputs": [],
   "source": [
    "class ShapeChecker():\n",
    "    def __init__(self):\n",
    "        self.shapes = {}\n",
    "    \n",
    "    def __call__(self, tensor, names, broadcast=False):\n",
    "        if not tf.executing_eagerly():\n",
    "            return\n",
    "        if isinstance(names, str):\n",
    "            names = (names,)\n",
    "        shape = tf.shape(tensor)\n",
    "        rank = tf.rank(tensor)\n",
    "        if rank != len(names):\n",
    "            raise ValueError(\n",
    "                f'Rank mismatch:\\n'\n",
    "                f'    found {rank}: {shape.numpy()}\\n'\n",
    "                f'    expected {len(names)}: {names}\\n'\n",
    "            )\n",
    "        for i, name in enumerate(names):\n",
    "            if isinstance(name, int):\n",
    "                old_dim = name\n",
    "            else:\n",
    "                old_dim = self.shapes.get(name, None)\n",
    "            new_dim = shape[i]\n",
    "            if (broadcast and new_dim==1):\n",
    "                continue\n",
    "            if old_dim is None:\n",
    "                self.shapes[name] = new_dim\n",
    "                continue\n",
    "            if new_dim != old_dim:\n",
    "                raise ValueError(f\"Shape mismatch for dimension: '{name}'\\n\"\n",
    "                                 f\"     found: {new_dim}\\n\"\n",
    "                                 f\"     expected: {old_dim}\\n\")"
   ]
  },
  {
   "cell_type": "markdown",
   "id": "6122f0fa-0856-49c4-bcc9-8aa1f09c68ba",
   "metadata": {},
   "source": [
    "ENCODEUR"
   ]
  },
  {
   "cell_type": "code",
   "execution_count": 65,
   "id": "0cba3309-7f15-4405-a051-515b81607493",
   "metadata": {},
   "outputs": [],
   "source": [
    "class Encoder(tf.keras.layers.Layer):\n",
    "    def __init__(self, input_vocab_size, embedding_dim, enc_units):\n",
    "        super(Encoder, self).__init__()\n",
    "        self.enc_units = enc_units\n",
    "        self.input_vocab_size = input_vocab_size\n",
    "        # EMBEDDING LAYER (TOKENS TO VECTORS)\n",
    "        self.embedding = tf.keras.layers.Embedding(self.input_vocab_size, embedding_dim)\n",
    "        # RNN LAYER\n",
    "        self.gru = tf.keras.layers.GRU(\n",
    "            self.enc_units,\n",
    "            return_sequences=True,\n",
    "            return_state=True,\n",
    "            recurrent_initializer='glorot_uniform'\n",
    "        )\n",
    "    def call(self, tokens, state=None):\n",
    "        shape_checker = ShapeChecker()\n",
    "        shape_checker(tokens, ('batch', 's'))\n",
    "        # EMBEDDING\n",
    "        vectors = self.embedding(tokens)\n",
    "        shape_checker(vectors, ('batch', 's', 'embed_dim'))\n",
    "        # GRU\n",
    "        output, state = self.gru(vectors, initial_state=state)\n",
    "        shape_checker(output, ('batch', 's', 'enc_units'))\n",
    "        shape_checker(state, ('batch', 'enc_units'))\n",
    "        return output, state"
   ]
  },
  {
   "cell_type": "code",
   "execution_count": 66,
   "id": "63b69443-c2d6-4982-b858-68cb0308d41e",
   "metadata": {},
   "outputs": [
    {
     "name": "stdout",
     "output_type": "stream",
     "text": [
      "Input batch, shape(batch): (64,)\n",
      "Input batch tokens, shape(batch, s): (64, 23)\n",
      "Encoder output, shape(batch, s, units): (64, 23, 1024)\n",
      "Encoder state, shape(batch, units): (64, 1024)\n"
     ]
    }
   ],
   "source": [
    "examples_tokens = input_text_processor(example_input_batch)\n",
    "encoder = Encoder(input_text_processor.vocabulary_size(), embedding_dim, units)\n",
    "example_enc_output, example_enc_state = encoder(example_tokens)\n",
    "print(f'Input batch, shape(batch): {example_input_batch.shape}')\n",
    "print(f'Input batch tokens, shape(batch, s): {examples_tokens.shape}')\n",
    "print(f'Encoder output, shape(batch, s, units): {example_enc_output.shape}')\n",
    "print(f'Encoder state, shape(batch, units): {example_enc_state.shape}')"
   ]
  },
  {
   "cell_type": "markdown",
   "id": "d173f94e-c34a-4cf8-8ee5-0f4d1e447f2a",
   "metadata": {},
   "source": [
    "TETE D'ATTENTION"
   ]
  },
  {
   "cell_type": "code",
   "execution_count": 71,
   "id": "b694cc99-43af-4b6e-bccf-1f6dbb34ceb5",
   "metadata": {},
   "outputs": [],
   "source": [
    "class BahdanauAttention(tf.keras.layers.Layer):\n",
    "    def __init__(self, units):\n",
    "        super().__init__()\n",
    "        self.W1 = tf.keras.layers.Dense(units, use_bias=False)\n",
    "        self.W2 = tf.keras.layers.Dense(units, use_bias=False)\n",
    "        self.attention = tf.keras.layers.AdditiveAttention()\n",
    "        \n",
    "    def call(self, query, value, mask):\n",
    "        shape_checker = ShapeChecker()\n",
    "        shape_checker(query, ('batch', 't', 'query_units'))\n",
    "        shape_checker(value, ('batch', 's', 'value_units'))\n",
    "        shape_checker(mask, ('batch', 's'))\n",
    "        w1_query = self.W1(query)\n",
    "        shape_checker(w1_query, ('batch', 't', 'attn_units'))\n",
    "        w2_key = self.W2(value)\n",
    "        shape_checker(w2_key, ('batch', 's', 'attn_units'))\n",
    "        query_mask = tf.ones(tf.shape(query)[:-1], dtype=bool)\n",
    "        value_mask = mask\n",
    "        context_vector, attention_weights = self.attention(\n",
    "            inputs = [w1_query, value, w2_key],\n",
    "            mask = [query_mask, value_mask],\n",
    "            return_attention_scores = True\n",
    "        )\n",
    "        shape_checker(context_vector, ('batch', 't', 'value_units'))\n",
    "        shape_checker(attention_weights, ('batch', 't', 's'))\n",
    "        return context_vector, attention_weights"
   ]
  },
  {
   "cell_type": "code",
   "execution_count": 72,
   "id": "fddc67d6-49c5-4be6-aea8-88878bca5074",
   "metadata": {},
   "outputs": [
    {
     "name": "stdout",
     "output_type": "stream",
     "text": [
      "Attention result shape (bs, query_seq_len, units): (64, 2, 1024)\n",
      "Attention weights shape (bs, qsl, vsl) (64, 2, 23)\n"
     ]
    }
   ],
   "source": [
    "attention_layer = BahdanauAttention(units)\n",
    "example_attention_query = tf.random.normal(shape=[len(example_tokens), 2, 10])\n",
    "context_vector, attention_weights = attention_layer(\n",
    "    query=example_attention_query,\n",
    "    value=example_enc_output,\n",
    "    mask=(example_tokens != 0)\n",
    ")\n",
    "print(f'Attention result shape (bs, query_seq_len, units): {context_vector.shape}')\n",
    "print(f'Attention weights shape (bs, qsl, vsl) {attention_weights.shape}')"
   ]
  },
  {
   "cell_type": "markdown",
   "id": "9e93d3ab-37b8-4df3-8052-57e511763e0c",
   "metadata": {},
   "source": [
    "Les poids d'attention doit correspondre exactement a 1.0 pour chaque sequence"
   ]
  },
  {
   "cell_type": "code",
   "execution_count": 74,
   "id": "621a5b66-68e5-478b-98b6-9075853a28e1",
   "metadata": {},
   "outputs": [
    {
     "data": {
      "text/plain": [
       "Text(0.5, 1.0, 'Mask')"
      ]
     },
     "execution_count": 74,
     "metadata": {},
     "output_type": "execute_result"
    },
    {
     "data": {
      "image/png": "[encoded data removed]",
      "text/plain": [
       "<Figure size 640x480 with 2 Axes>"
      ]
     },
     "metadata": {},
     "output_type": "display_data"
    }
   ],
   "source": [
    "plt.subplot(1, 2, 1)\n",
    "plt.pcolormesh(attention_weights[:, 0, :])\n",
    "plt.title('Attention weights')\n",
    "plt.subplot(1, 2, 2)\n",
    "plt.pcolormesh(examples_tokens != 0)\n",
    "plt.title('Mask')"
   ]
  },
  {
   "cell_type": "markdown",
   "id": "a8a3e2d1-9774-43f2-b948-45c3010de618",
   "metadata": {},
   "source": [
    "DECODEUR"
   ]
  },
  {
   "cell_type": "code",
   "execution_count": 76,
   "id": "db1bb887-209f-40d5-94fa-bc95bc8a8831",
   "metadata": {},
   "outputs": [],
   "source": [
    "class DecoderInput(typing.NamedTuple):\n",
    "    new_tokens: Any\n",
    "    enc_output: Any\n",
    "    mask: Any\n",
    "    \n",
    "class DecoderOutput(typing.NamedTuple):\n",
    "    logits: Any\n",
    "    attention_weights: Any\n",
    "\n",
    "class Decoder(tf.keras.layers.Layer):\n",
    "    def __init__(self, output_vocab_size, embedding_dim, dec_units):\n",
    "        super(Decoder, self).__init__()\n",
    "        self.dec_units = dec_units\n",
    "        self.output_vocab_size = output_vocab_size\n",
    "        self.embedding_dim = embedding_dim\n",
    "        # 1 TOKEN IDs TO VECTOR\n",
    "        self.embedding = tf.keras.layers.Embedding(self.output_vocab_size, embedding_dim)\n",
    "        # 2 RNN pour garder une trace de ce qu'il a genere jusqu'a present\n",
    "        self.gru = tf.keras.layers.GRU(\n",
    "            self.dec_units,\n",
    "            return_sequences=True,\n",
    "            return_state=True,\n",
    "            recurrent_initializer='glorot_uniform'\n",
    "        )\n",
    "        # 3 RNN comme requete a l'attention sur la sortie\n",
    "        self.attention = BahdanauAttention(self.dec_units)\n",
    "        # 4 generate a attention vector\n",
    "        self.Wc = tf.keras.layers.Dense(\n",
    "            dec_units,\n",
    "            activation=tf.math.tanh,\n",
    "            use_bias=False\n",
    "        )\n",
    "        # 5 Generate logits predictions with attention vector\n",
    "        self.fc = tf.keras.layers.Dense(self.output_vocab_size)\n",
    "        \n",
    "    def call(self, inputs: DecoderInput, state=None) -> Tuple[DecoderOutput, tf.Tensor]:\n",
    "        shape_checker = ShapeChecker()\n",
    "        shape_checker(inputs.new_tokens, ('batch', 't'))\n",
    "        shape_checker(inputs.enc_output, ('batch', 's', 'enc_units'))\n",
    "        shape_checker(inputs.mask, ('batch', 's'))\n",
    "        if state is not None:\n",
    "            shape_checker(state, ('batch', 'dec_units'))\n",
    "        # 1 Look up the embeddings\n",
    "        vectors = self.embedding(inputs.new_tokens)\n",
    "        shape_checker(vectors, ('batch', 't', 'embedding_dim'))\n",
    "        # 2 Process one step with the RNN\n",
    "        rnn_output, state = self.gru(vectors, initial_state=state)\n",
    "        shape_checker(rnn_output, ('batch', 't', 'dec_units'))\n",
    "        shape_checker(state, ('batch', 'dec_units'))\n",
    "        # 3 Use the RNN output as the query for the attention over the encoder output\n",
    "        context_vector, attention_weights = self.attention(\n",
    "            query=rnn_output,\n",
    "            value=inputs.enc_output,\n",
    "            mask=inputs.mask\n",
    "        )\n",
    "        shape_checker(context_vector, ('batch', 't', 'dec_units'))\n",
    "        shape_checker(attention_weights, ('batch', 't', 's'))\n",
    "        # 4 Join the context_vector and rnn_output\n",
    "        context_and_rnn_output = tf.concat([context_vector, rnn_output], axis=-1)\n",
    "        attention_vector = self.Wc(context_and_rnn_output)\n",
    "        shape_checker(attention_vector, ('batch', 't', 'dec_units'))\n",
    "        # 5 Generate logit predicitons\n",
    "        logits = self.fc(attention_vector)\n",
    "        shape_checker(logits, ('batch', 't', 'output_vocab_size'))\n",
    "        return DecoderOutput(logits, attention_weights), state"
   ]
  },
  {
   "cell_type": "code",
   "execution_count": 77,
   "id": "37f4bc73-1efd-416a-910a-c6c18267febf",
   "metadata": {},
   "outputs": [],
   "source": [
    "decoder = Decoder(output_text_processor.vocabulary_size(), embedding_dim, units)"
   ]
  },
  {
   "cell_type": "markdown",
   "id": "41b2106a-7d23-4987-802d-9e50d5c39003",
   "metadata": {},
   "source": [
    "CONVERT THE TARGET SEQUENCE AND COLLECT THE '[START]' TOKENS"
   ]
  },
  {
   "cell_type": "code",
   "execution_count": 78,
   "id": "a130fe93-2cd0-4046-b96f-807ad874dc3b",
   "metadata": {},
   "outputs": [],
   "source": [
    "example_output_tokens = output_text_processor(example_target_batch)\n",
    "start_index = output_text_processor.get_vocabulary().index('[START]')\n",
    "first_token = tf.constant([[start_index]] * example_output_tokens.shape[0])"
   ]
  },
  {
   "cell_type": "markdown",
   "id": "316165c6-2df3-412a-9fea-666aa686913f",
   "metadata": {},
   "source": [
    "RUN THE DECODER"
   ]
  },
  {
   "cell_type": "code",
   "execution_count": 79,
   "id": "bd0c72f4-3572-4505-85ec-25d103b61306",
   "metadata": {},
   "outputs": [
    {
     "name": "stdout",
     "output_type": "stream",
     "text": [
      "Logits shape: (batch_size, t, output_vocab_size) (64, 1, 5000)\n",
      "State shape: (batch_size, dec_units) (64, 1024)\n"
     ]
    }
   ],
   "source": [
    "dec_result, dec_state = decoder(\n",
    "    inputs= DecoderInput(\n",
    "        new_tokens=first_token,\n",
    "        enc_output=example_enc_output,\n",
    "        mask=(example_tokens != 0)\n",
    "    ),\n",
    "    state=example_enc_state\n",
    ")\n",
    "print(f'Logits shape: (batch_size, t, output_vocab_size) {dec_result.logits.shape}')\n",
    "print(f'State shape: (batch_size, dec_units) {dec_state.shape}')"
   ]
  },
  {
   "cell_type": "markdown",
   "id": "280e587a-74f5-47a4-ab9e-5b2b05db4581",
   "metadata": {},
   "source": [
    "Exemple de jeton en fonction des logits"
   ]
  },
  {
   "cell_type": "code",
   "execution_count": 80,
   "id": "c7730d6c-8e5a-48a3-a4dc-2c1260e496a0",
   "metadata": {},
   "outputs": [],
   "source": [
    "sampled_token = tf.random.categorical(dec_result.logits[:, 0, :], num_samples=1)"
   ]
  },
  {
   "cell_type": "markdown",
   "id": "3de374ee-c150-4455-b654-4a40b82a920b",
   "metadata": {},
   "source": [
    "Decoder le jeton comme premier mot de la sortie"
   ]
  },
  {
   "cell_type": "code",
   "execution_count": 81,
   "id": "7b8f89db-ae3d-4ec0-b8bf-df54d976de93",
   "metadata": {},
   "outputs": [
    {
     "data": {
      "text/plain": [
       "array([['halfway'],\n",
       "       ['unfortunately'],\n",
       "       ['snacks'],\n",
       "       ['refer'],\n",
       "       ['unimpressed']], dtype='<U16')"
      ]
     },
     "execution_count": 81,
     "metadata": {},
     "output_type": "execute_result"
    }
   ],
   "source": [
    "vocab = np.array(output_text_processor.get_vocabulary())\n",
    "first_word = vocab[sampled_token.numpy()]\n",
    "first_word[:5]"
   ]
  },
  {
   "cell_type": "markdown",
   "id": "1f7a211a-6080-4a9c-a6a7-23b94d46231c",
   "metadata": {},
   "source": [
    "Use decoder for generating a second logits"
   ]
  },
  {
   "cell_type": "code",
   "execution_count": 82,
   "id": "766630e2-4b2f-4cd3-8701-2f91cf581036",
   "metadata": {},
   "outputs": [
    {
     "data": {
      "text/plain": [
       "array([['sock'],\n",
       "       ['well'],\n",
       "       ['bother'],\n",
       "       ['compete'],\n",
       "       ['meters']], dtype='<U16')"
      ]
     },
     "execution_count": 82,
     "metadata": {},
     "output_type": "execute_result"
    }
   ],
   "source": [
    "dec_result, dec_state = decoder(\n",
    "    DecoderInput(\n",
    "        sampled_token,\n",
    "        example_enc_output,\n",
    "        mask=(example_tokens != 0)\n",
    "    ),\n",
    "    state=dec_state\n",
    ")\n",
    "sampled_token = tf.random.categorical(dec_result.logits[:, 0, :], num_samples=1)\n",
    "first_word = vocab[sampled_token.numpy()]\n",
    "first_word[:5]"
   ]
  },
  {
   "cell_type": "markdown",
   "id": "b0abc5a6-7339-409e-9f48-69e6466cec95",
   "metadata": {},
   "source": [
    "### TRAINING\n",
    "LOSS FUNCTION"
   ]
  },
  {
   "cell_type": "code",
   "execution_count": 83,
   "id": "f5ca1002-5481-45a2-a1c6-b89cfdc4001d",
   "metadata": {},
   "outputs": [],
   "source": [
    "class MaskedLoss(tf.keras.losses.Loss):\n",
    "    def __init__(self):\n",
    "        self.name = 'masked_loss'\n",
    "        self.loss = tf.keras.losses.SparseCategoricalCrossentropy(\n",
    "            from_logits=True,\n",
    "            reduction='none'\n",
    "        )\n",
    "        \n",
    "    def __call__(self, y_true, y_pred):\n",
    "        shape_checker = ShapeChecker()\n",
    "        shape_checker(y_true, ('batch', 't'))\n",
    "        shape_checker(y_pred, ('batch', 't', 'logits'))\n",
    "        # Calculate the loss for each item in the batch\n",
    "        loss = self.loss(y_true, y_pred)\n",
    "        shape_checker(loss, ('batch', 't'))\n",
    "        # Mask off the losses on padding\n",
    "        mask = tf.cast(y_true !=0, tf.float32)\n",
    "        shape_checker(mask, ('batch', 't'))\n",
    "        loss *= mask\n",
    "        return tf.reduce_sum(loss)"
   ]
  },
  {
   "cell_type": "markdown",
   "id": "2567e9d4-b2d1-472f-9ace-64e7f1c93487",
   "metadata": {},
   "source": [
    "METTRE EN OEUVRE L'ETAPE DE FORMATION"
   ]
  },
  {
   "cell_type": "code",
   "execution_count": 94,
   "id": "8809a40f-cd47-4f40-ac49-a3b52ee6618b",
   "metadata": {},
   "outputs": [],
   "source": [
    "class TrainTranslator(tf.keras.Model):\n",
    "    def __init__(self, embedding_dim, units, input_text_processor, output_text_processor, use_tf_function=True):\n",
    "        super().__init__()\n",
    "        encoder = Encoder(input_text_processor.vocabulary_size(), embedding_dim, units)\n",
    "        decoder = Decoder(output_text_processor.vocabulary_size(), embedding_dim, units)\n",
    "        self.encoder = encoder\n",
    "        self.decoder = decoder\n",
    "        self.input_text_processor = input_text_processor\n",
    "        self.output_text_processor = output_text_processor\n",
    "        self.use_tf_function = use_tf_function\n",
    "        self.shape_checker = ShapeChecker()\n",
    "    \n",
    "    def train_step(self, inputs):\n",
    "        self.shape_checker = ShapeChecker()\n",
    "        if self.use_tf_function:\n",
    "            return self._tf_train_step(inputs)\n",
    "        else:\n",
    "            return self._train_step(inputs)\n",
    "    def _preprocess(self, input_text, target_text):\n",
    "        self.shape_checker(input_text, ('batch',))\n",
    "        self.shape_checker(target_text, ('batch',))\n",
    "        # Convert the text to token IDs\n",
    "        input_tokens = self.input_text_processor(input_text)\n",
    "        target_tokens = self.output_text_processor(target_text)\n",
    "        self.shape_checker(input_tokens, ('batch', 's'))\n",
    "        self.shape_checker(target_tokens, ('batch', 't'))\n",
    "        # Convert IDs to masks\n",
    "        input_mask = input_tokens != 0\n",
    "        self.shape_checker(input_mask, ('batch', 's'))\n",
    "        target_mask = target_tokens != 0\n",
    "        self.shape_checker(target_mask, ('batch', 't'))\n",
    "        return input_tokens, input_mask, target_tokens, target_mask\n",
    "    \n",
    "    def _train_step(self, inputs):\n",
    "        input_text, target_text = inputs\n",
    "        (input_tokens, input_mask, target_tokens, target_mask) = self._preprocess(input_text, target_text)\n",
    "        max_target_length = tf.shape(target_tokens)[1]\n",
    "        with tf.GradientTape() as tape:\n",
    "            enc_output, enc_state = self.encoder(input_tokens)\n",
    "            self.shape_checker(enc_output, ('batch', 's', 'enc_units'))\n",
    "            self.shape_checker(enc_state, ('batch', 'enc_units'))\n",
    "            dec_state = enc_state\n",
    "            loss = tf.constant(0.0)\n",
    "            for t in  tf.range(max_target_length-1):\n",
    "                new_tokens = target_tokens[:, t:t+2]\n",
    "                step_loss, dec_state = self._loop_step(new_tokens, input_mask, enc_output, dec_state)\n",
    "                loss = loss + step_loss\n",
    "            average_loss = loss / tf.reduce_sum(tf.cast(target_mask, tf.float32))\n",
    "        variables = self.trainable_variables\n",
    "        gradients = tape.gradient(average_loss, variables)\n",
    "        self.optimizer.apply_gradients(zip(gradients, variables))\n",
    "        return {'batch_loss': average_loss}\n",
    "    \n",
    "    def _loop_step(self, new_tokens, input_mask, enc_output, dec_state):\n",
    "        input_token, target_token = new_tokens[:, 0:1], new_tokens[:, 1:2]\n",
    "        # Run decoder step\n",
    "        decoder_input = DecoderInput(new_tokens=input_token, enc_output=enc_output, mask=input_mask)\n",
    "        dec_result, dec_state = self.decoder(decoder_input, state=dec_state)\n",
    "        self.shape_checker(dec_result.logits, ('batch', 't1', 'logits'))\n",
    "        self.shape_checker(dec_result.attention_weights, ('batch', 't1', 's'))\n",
    "        self.shape_checker(dec_state, ('batch', 'dec_units'))\n",
    "        y = target_token\n",
    "        y_pred = dec_result.logits\n",
    "        step_loss = self.loss(y, y_pred)\n",
    "        return step_loss, dec_state"
   ]
  },
  {
   "cell_type": "markdown",
   "id": "9611340d-5184-4e5d-b3b1-bf0c2f5d4358",
   "metadata": {},
   "source": [
    "TESTER L'ETAPE DE FORMATION"
   ]
  },
  {
   "cell_type": "code",
   "execution_count": 95,
   "id": "048d2508-f912-4c6d-a491-ffeef82e65ae",
   "metadata": {},
   "outputs": [],
   "source": [
    "translator = TrainTranslator(\n",
    "    embedding_dim,\n",
    "    units,\n",
    "    input_text_processor=input_text_processor,\n",
    "    output_text_processor=output_text_processor,\n",
    "    use_tf_function=False\n",
    ")\n",
    "# Configure loss and optimizer\n",
    "translator.compile(\n",
    "    optimizer=tf.optimizers.Adam(),\n",
    "    loss=MaskedLoss()\n",
    ")"
   ]
  },
  {
   "cell_type": "code",
   "execution_count": 96,
   "id": "7967a404-acb9-474b-9e33-3da1b723883b",
   "metadata": {},
   "outputs": [
    {
     "data": {
      "text/plain": [
       "8.517193191416238"
      ]
     },
     "execution_count": 96,
     "metadata": {},
     "output_type": "execute_result"
    }
   ],
   "source": [
    "np.log(output_text_processor.vocabulary_size())"
   ]
  },
  {
   "cell_type": "code",
   "execution_count": 97,
   "id": "fb15ea86-80da-4b10-9464-2b4c6f2be566",
   "metadata": {},
   "outputs": [
    {
     "name": "stdout",
     "output_type": "stream",
     "text": [
      "{'batch_loss': <tf.Tensor: shape=(), dtype=float32, numpy=7.6533213>}\n",
      "{'batch_loss': <tf.Tensor: shape=(), dtype=float32, numpy=7.6236796>}\n",
      "{'batch_loss': <tf.Tensor: shape=(), dtype=float32, numpy=7.5698886>}\n",
      "{'batch_loss': <tf.Tensor: shape=(), dtype=float32, numpy=7.420364>}\n",
      "{'batch_loss': <tf.Tensor: shape=(), dtype=float32, numpy=6.891374>}\n",
      "{'batch_loss': <tf.Tensor: shape=(), dtype=float32, numpy=4.927641>}\n",
      "{'batch_loss': <tf.Tensor: shape=(), dtype=float32, numpy=4.814975>}\n",
      "{'batch_loss': <tf.Tensor: shape=(), dtype=float32, numpy=4.2321353>}\n",
      "{'batch_loss': <tf.Tensor: shape=(), dtype=float32, numpy=4.0027847>}\n",
      "{'batch_loss': <tf.Tensor: shape=(), dtype=float32, numpy=3.9783778>}\n",
      "CPU times: total: 1min 18s\n",
      "Wall time: 41.7 s\n"
     ]
    }
   ],
   "source": [
    "%%time\n",
    "for n in range(10):\n",
    "    print(translator.train_step([example_input_batch, example_target_batch]))"
   ]
  },
  {
   "cell_type": "code",
   "execution_count": 98,
   "id": "06d80b1a-593a-421f-9324-631c8819d385",
   "metadata": {},
   "outputs": [],
   "source": [
    "@tf.function(input_signature=[[tf.TensorSpec(dtype=tf.string, shape=[None]), tf.TensorSpec(dtype=tf.string, shape=[None])]])\n",
    "def _tf_train_step(self, inputs):\n",
    "    return self._train_step(inputs)"
   ]
  },
  {
   "cell_type": "code",
   "execution_count": 99,
   "id": "41fb8c4e-9dec-4db4-a990-eb34c0322dd8",
   "metadata": {},
   "outputs": [],
   "source": [
    "TrainTranslator._tf_train_step = _tf_train_step"
   ]
  },
  {
   "cell_type": "code",
   "execution_count": 100,
   "id": "e2725f6b-5cce-4e25-a04f-d1290e006d04",
   "metadata": {},
   "outputs": [
    {
     "data": {
      "text/plain": [
       "{'batch_loss': <tf.Tensor: shape=(), dtype=float32, numpy=3.9819963>}"
      ]
     },
     "execution_count": 100,
     "metadata": {},
     "output_type": "execute_result"
    }
   ],
   "source": [
    "translator.use_tf_function = True\n",
    "translator.train_step([example_input_batch, example_target_batch])"
   ]
  },
  {
   "cell_type": "code",
   "execution_count": 101,
   "id": "67e3e6ca-abba-4b7c-9b87-c5f756b5918c",
   "metadata": {},
   "outputs": [
    {
     "name": "stdout",
     "output_type": "stream",
     "text": [
      "{'batch_loss': <tf.Tensor: shape=(), dtype=float32, numpy=3.9490888>}\n",
      "{'batch_loss': <tf.Tensor: shape=(), dtype=float32, numpy=3.9024265>}\n",
      "{'batch_loss': <tf.Tensor: shape=(), dtype=float32, numpy=3.8277218>}\n",
      "{'batch_loss': <tf.Tensor: shape=(), dtype=float32, numpy=3.7534266>}\n",
      "{'batch_loss': <tf.Tensor: shape=(), dtype=float32, numpy=3.7124224>}\n",
      "{'batch_loss': <tf.Tensor: shape=(), dtype=float32, numpy=3.6922274>}\n",
      "{'batch_loss': <tf.Tensor: shape=(), dtype=float32, numpy=3.6765287>}\n",
      "{'batch_loss': <tf.Tensor: shape=(), dtype=float32, numpy=3.65456>}\n",
      "{'batch_loss': <tf.Tensor: shape=(), dtype=float32, numpy=3.6299243>}\n",
      "{'batch_loss': <tf.Tensor: shape=(), dtype=float32, numpy=3.5963814>}\n",
      "\n",
      "CPU times: total: 1min 40s\n",
      "Wall time: 27.9 s\n"
     ]
    }
   ],
   "source": [
    "%%time\n",
    "for n in range(10):\n",
    "    print(translator.train_step([example_input_batch, example_target_batch]))\n",
    "print()"
   ]
  },
  {
   "cell_type": "markdown",
   "id": "cb1b464e-974f-4dab-a525-0e04ad413490",
   "metadata": {},
   "source": [
    "Le model peut suradapter un seul lot d'entrees"
   ]
  },
  {
   "cell_type": "code",
   "execution_count": 103,
   "id": "ac65d858-0aaa-43fc-b92e-62fd3a0d6dbb",
   "metadata": {},
   "outputs": [
    {
     "name": "stdout",
     "output_type": "stream",
     "text": [
      "....................................................................................................\n"
     ]
    },
    {
     "data": {
      "text/plain": [
       "[<matplotlib.lines.Line2D at 0x2049500aa70>]"
      ]
     },
     "execution_count": 103,
     "metadata": {},
     "output_type": "execute_result"
    },
    {
     "data": {
      "image/png": "[encoded data removed]",
      "text/plain": [
       "<Figure size 640x480 with 1 Axes>"
      ]
     },
     "metadata": {},
     "output_type": "display_data"
    }
   ],
   "source": [
    "losses = []\n",
    "for n in range(100):\n",
    "    print('.', end='')\n",
    "    logs = translator.train_step([example_input_batch, example_target_batch])\n",
    "    losses.append(logs['batch_loss'].numpy())\n",
    "print()\n",
    "plt.plot(losses)"
   ]
  },
  {
   "cell_type": "markdown",
   "id": "8dd1778f-4d4e-4b13-9dd3-688772b9abc4",
   "metadata": {},
   "source": [
    "CREATE A COPIE OF MODEL FOR TRAINING FROM 0"
   ]
  },
  {
   "cell_type": "code",
   "execution_count": 107,
   "id": "e2ce3742-f089-4c3e-8ad6-f9133b72c4d2",
   "metadata": {},
   "outputs": [],
   "source": [
    "train_translator = TrainTranslator(\n",
    "    embedding_dim,\n",
    "    units,\n",
    "    input_text_processor=input_text_processor,\n",
    "    output_text_processor=output_text_processor\n",
    ")\n",
    "train_translator.compile(\n",
    "    optimizer=tf.optimizers.Adam(),\n",
    "    loss=MaskedLoss()\n",
    ")"
   ]
  },
  {
   "cell_type": "markdown",
   "id": "e5e685a8-f6cd-456a-8b89-4018d032df93",
   "metadata": {},
   "source": [
    "CALLBACK"
   ]
  },
  {
   "cell_type": "code",
   "execution_count": 108,
   "id": "da36c3a7-cf21-44f7-8972-528bcb524a54",
   "metadata": {},
   "outputs": [],
   "source": [
    "class BatchLogs(tf.keras.callbacks.Callback):\n",
    "    def __init__(self, key):\n",
    "        self.key = key\n",
    "        self.logs = []\n",
    "    def on_train_batch_end(self, n, logs):\n",
    "        self.logs.append(logs[self.key])\n",
    "batch_loss = BatchLogs('batch_loss')"
   ]
  },
  {
   "cell_type": "code",
   "execution_count": 109,
   "id": "d4db9e2b-aac2-42ad-aa0c-6fc493d2cbbd",
   "metadata": {},
   "outputs": [
    {
     "name": "stdout",
     "output_type": "stream",
     "text": [
      "Epoch 1/3\n",
      "3086/3086 [==============================] - 8827s 3s/step - batch_loss: 1.5063\n",
      "Epoch 2/3\n",
      "3086/3086 [==============================] - 8621s 3s/step - batch_loss: 0.7864\n",
      "Epoch 3/3\n",
      "3086/3086 [==============================] - 8595s 3s/step - batch_loss: 0.6069\n"
     ]
    },
    {
     "data": {
      "text/plain": [
       "<keras.callbacks.History at 0x204afb55a20>"
      ]
     },
     "execution_count": 109,
     "metadata": {},
     "output_type": "execute_result"
    }
   ],
   "source": [
    "train_translator.fit(dataset, epochs=3, callbacks=[batch_loss])"
   ]
  },
  {
   "cell_type": "code",
   "execution_count": 111,
   "id": "7c0e2031-febf-443b-9ba4-7833491b4724",
   "metadata": {},
   "outputs": [
    {
     "data": {
      "text/plain": [
       "Text(0, 0.5, 'CE/toke')"
      ]
     },
     "execution_count": 111,
     "metadata": {},
     "output_type": "execute_result"
    },
    {
     "data": {
      "image/png": "[encoded data removed]",
      "text/plain": [
       "<Figure size 640x480 with 1 Axes>"
      ]
     },
     "metadata": {},
     "output_type": "display_data"
    }
   ],
   "source": [
    "plt.plot(batch_loss.logs)\n",
    "plt.ylim([0, 2])\n",
    "plt.xlabel('Batch #')\n",
    "plt.ylabel('CE/toke')"
   ]
  },
  {
   "cell_type": "markdown",
   "id": "e4a6db99-54bf-41ef-8be8-ac8676ef419a",
   "metadata": {},
   "source": [
    "### TRANSLATE"
   ]
  },
  {
   "cell_type": "code",
   "execution_count": 114,
   "id": "c5a5bfea-7f7e-43bc-9e39-340f0430814d",
   "metadata": {},
   "outputs": [],
   "source": [
    "class Translator(tf.Module):\n",
    "    def __init__(self, encoder, decoder, input_text_processor, output_text_processor):\n",
    "        self.encoder = encoder\n",
    "        self.decoder = decoder\n",
    "        self.input_text_processor = input_text_processor\n",
    "        self.output_text_processor = output_text_processor\n",
    "        self.output_token_string_from_index = (\n",
    "            tf.keras.layers.StringLookup(\n",
    "                vocabulary=output_text_processor.get_vocabulary(),\n",
    "                mask_token='',\n",
    "                invert=True\n",
    "            )\n",
    "        )\n",
    "        index_from_string = tf.keras.layers.StringLookup(\n",
    "            vocabulary=output_text_processor.get_vocabulary(),\n",
    "            mask_token=''\n",
    "        )\n",
    "        token_mask_ids = index_from_string(['', '[UNK]', '[START]']).numpy()\n",
    "        token_mask = np.zeros([index_from_string.vocabulary_size()], dtype=np.bool)\n",
    "        token_mask[np.array(token_mask_ids)] = True\n",
    "        self.token_mask = token_mask\n",
    "        self.start_token = index_from_string(tf.constant('[START]'))\n",
    "        self.end_token = index_from_string(tf.constant('[END]'))"
   ]
  },
  {
   "cell_type": "code",
   "execution_count": 115,
   "id": "7e03d4c8-2325-424f-a390-3e0bd235d51a",
   "metadata": {},
   "outputs": [
    {
     "name": "stderr",
     "output_type": "stream",
     "text": [
      "C:\\Users\\RAKOTONDRAVAO\\AppData\\Local\\Temp\\ipykernel_10800\\832058301.py:19: DeprecationWarning: `np.bool` is a deprecated alias for the builtin `bool`. To silence this warning, use `bool` by itself. Doing this will not modify any behavior and is safe. If you specifically wanted the numpy scalar type, use `np.bool_` here.\n",
      "Deprecated in NumPy 1.20; for more details and guidance: https://numpy.org/devdocs/release/1.20.0-notes.html#deprecations\n",
      "  token_mask = np.zeros([index_from_string.vocabulary_size()], dtype=np.bool)\n"
     ]
    }
   ],
   "source": [
    "translator = Translator(\n",
    "    encoder=train_translator.encoder,\n",
    "    decoder=train_translator.decoder,\n",
    "    input_text_processor=input_text_processor,\n",
    "    output_text_processor=output_text_processor\n",
    ")"
   ]
  },
  {
   "cell_type": "markdown",
   "id": "2687a62e-7797-411b-a57a-2c0fb22b0a3e",
   "metadata": {},
   "source": [
    "CONVERTIR LES IDENTIFIANTS DE JETON EN TEXTE"
   ]
  },
  {
   "cell_type": "code",
   "execution_count": 116,
   "id": "b052cc0c-6490-4db4-92c9-9d5cb7423026",
   "metadata": {},
   "outputs": [],
   "source": [
    "def tokens_to_text(self, result_tokens):\n",
    "    shape_checker = ShapeChecker()\n",
    "    shape_checker(result_tokens, ('batch', 't'))\n",
    "    result_text_tokens = self.output_token_string_from_index(result_tokens)\n",
    "    shape_checker(result_text_tokens, ('batch', 't'))\n",
    "    result_text = tf.strings.reduce_join(result_text_tokens, axis=1, separator=' ')\n",
    "    shape_checker(result_text, ('batch'))\n",
    "    result_text = tf.strings.strip(result_text)\n",
    "    shape_checker(result_text, ('batch',))\n",
    "    return result_text\n",
    "\n",
    "Translator.tokens_to_text = tokens_to_text"
   ]
  },
  {
   "cell_type": "code",
   "execution_count": 117,
   "id": "6715d4b3-abf9-4cf3-ae85-b0d756e4a887",
   "metadata": {},
   "outputs": [
    {
     "data": {
      "text/plain": [
       "array([b'musical popular', b'seafood doorbell', b'instead facts',\n",
       "       b'strictly appeal', b'push for'], dtype=object)"
      ]
     },
     "execution_count": 117,
     "metadata": {},
     "output_type": "execute_result"
    }
   ],
   "source": [
    "example_output_tokens = tf.random.uniform(\n",
    "    shape=[5, 2],\n",
    "    minval=0,\n",
    "    dtype=tf.int64,\n",
    "    maxval=output_text_processor.vocabulary_size()\n",
    ")\n",
    "translator.tokens_to_text(example_output_tokens).numpy()"
   ]
  },
  {
   "cell_type": "markdown",
   "id": "2b01adb7-0047-4072-86a4-fb8fdddb0a44",
   "metadata": {},
   "source": [
    "ECHANTILLON DES PREDICTIONS DU DECODER"
   ]
  },
  {
   "cell_type": "code",
   "execution_count": 120,
   "id": "afe7c1c7-9a82-4b87-b7c7-5b232352ad24",
   "metadata": {},
   "outputs": [],
   "source": [
    "def sample(self, logits, temperature):\n",
    "    shape_checker = ShapeChecker()\n",
    "    shape_checker(logits, ('batch', 't', 'vocab'))\n",
    "    shape_checker(self.token_mask, ('vocab',))\n",
    "    token_mask = self.token_mask[tf.newaxis, tf.newaxis, :]\n",
    "    shape_checker(token_mask, ('batch', 't', 'vocab'), broadcast=True)\n",
    "    logits = tf.where(self.token_mask, -np.inf, logits)\n",
    "    if temperature == 0.0:\n",
    "        new_tokens = tf.argmax(logits, axis=-1)\n",
    "    else:\n",
    "        logits = tf.squeeze(logits, axis=1)\n",
    "        new_tokens = tf.random.categorical(logits/temperature, num_samples=1)\n",
    "    shape_checker(new_tokens, ('batch', 't'))\n",
    "    return new_tokens\n",
    "\n",
    "Translator.sample = sample"
   ]
  },
  {
   "cell_type": "markdown",
   "id": "dc255e7a-98c6-4884-8df5-200e39295a70",
   "metadata": {},
   "source": [
    "TEST SAMPLE ON RANDOM INPUT"
   ]
  },
  {
   "cell_type": "code",
   "execution_count": 121,
   "id": "414de853-6228-44b9-a37e-84df7f16e949",
   "metadata": {},
   "outputs": [
    {
     "data": {
      "text/plain": [
       "<tf.Tensor: shape=(5, 1), dtype=int64, numpy=\n",
       "array([[4187],\n",
       "       [2511],\n",
       "       [ 846],\n",
       "       [2451],\n",
       "       [2319]], dtype=int64)>"
      ]
     },
     "execution_count": 121,
     "metadata": {},
     "output_type": "execute_result"
    }
   ],
   "source": [
    "example_logits = tf.random.normal([5, 1, output_text_processor.vocabulary_size()])\n",
    "example_output_tokens = translator.sample(example_logits, temperature=1.0)\n",
    "example_output_tokens"
   ]
  },
  {
   "cell_type": "markdown",
   "id": "2da12475-89ff-4269-8bbf-16df6cd3d39e",
   "metadata": {},
   "source": [
    "IMPLEMENT TRADUCTION BOUCLE"
   ]
  },
  {
   "cell_type": "code",
   "execution_count": 122,
   "id": "d0c8e0d1-5379-4b6c-ba54-b7fd3656c1ad",
   "metadata": {},
   "outputs": [],
   "source": [
    "def translate_unrolled(self, input_text, *, max_length=50, return_attention=True, temperature=1.0):\n",
    "    batch_size = tf.shape(input_text)[0]\n",
    "    input_tokens = self.input_text_processor(input_text)\n",
    "    enc_output, enc_state = self.encoder(input_tokens)\n",
    "    dec_state = enc_state\n",
    "    new_tokens = tf.fill([batch_size, 1], self.start_token)\n",
    "    result_tokens = []\n",
    "    attention = []\n",
    "    done = tf.zeros([batch_size, 1], dtype=tf.bool)\n",
    "    for _ in range(max_length):\n",
    "        dec_input = DecoderInput(new_tokens=new_tokens, enc_output=enc_output, mask=(input_tokens!=0))\n",
    "        dec_result, dec_state = self.decoder(dec_input, state=dec_state)\n",
    "        attention.append(dec_result.attention_weights)\n",
    "        new_tokens = self.sample(dec_result.logits, temperature)\n",
    "        done = done | (new_tokens == self.end_token)\n",
    "        new_tokens = tf.where(done, tf.constant(0, dtype=tf.int64), new_tokens)\n",
    "        result_tokens.append(new_tokens)\n",
    "        if tf.executing_eagerly() and tf.reduce_all(done):\n",
    "            break\n",
    "    result_tokens = tf.concat(result_tokens, axis=-1)\n",
    "    result_text = self.tokens_to_text(result_tokens)\n",
    "    if return_attention:\n",
    "        attention_stack = tf.concat(attention, axis=1)\n",
    "        return {'text': result_text, 'attention': attention_stack}\n",
    "    else:\n",
    "        return {'text': result_text}\n",
    "    \n",
    "Translator.translate = translate_unrolled"
   ]
  },
  {
   "cell_type": "markdown",
   "id": "697dddbe-c675-45b1-bce2-c0d439abe7b1",
   "metadata": {},
   "source": [
    "EXECUTE TRANSLATE IN SIMPLE INPUT"
   ]
  },
  {
   "cell_type": "code",
   "execution_count": 123,
   "id": "805518dc-a531-40de-a74f-69de1a0aa3bb",
   "metadata": {},
   "outputs": [
    {
     "name": "stdout",
     "output_type": "stream",
     "text": [
      "it ' s really cold there .\n",
      "this is my life .\n",
      "\n",
      "CPU times: total: 781 ms\n",
      "Wall time: 630 ms\n"
     ]
    }
   ],
   "source": [
    "%%time\n",
    "input_text = tf.constant([\n",
    "    'Il fait vraiment froid ici.',\n",
    "    'C\\'est ma vie.'\n",
    "])\n",
    "result = translator.translate(\n",
    "    input_text = input_text\n",
    ")\n",
    "print(result['text'][0].numpy().decode())\n",
    "print(result['text'][1].numpy().decode())\n",
    "print()"
   ]
  },
  {
   "cell_type": "markdown",
   "id": "10094335-3359-4d5e-900d-48bfd837de5c",
   "metadata": {},
   "source": [
    "### SAVE MODEL\n",
    "WRAP TRANSLATE IN tf.function"
   ]
  },
  {
   "cell_type": "code",
   "execution_count": 124,
   "id": "cd44f21c-385b-4f68-865c-6ffaa4ec375b",
   "metadata": {},
   "outputs": [],
   "source": [
    "@tf.function(input_signature=[tf.TensorSpec(dtype=tf.string, shape=[None])])\n",
    "def tf_translate(self, input_text):\n",
    "    return self.translate(input_text)\n",
    "Translator.tf_translate = tf_translate"
   ]
  },
  {
   "cell_type": "markdown",
   "id": "eac890de-c0ca-4d09-9f73-9eaba712236a",
   "metadata": {},
   "source": [
    "COMPILE tf.function (EXECUTE ONE TIME)"
   ]
  },
  {
   "cell_type": "code",
   "execution_count": 125,
   "id": "eb46328b-c5cd-4c8f-a994-5403e0688354",
   "metadata": {},
   "outputs": [
    {
     "name": "stdout",
     "output_type": "stream",
     "text": [
      "CPU times: total: 46.2 s\n",
      "Wall time: 35.3 s\n"
     ]
    }
   ],
   "source": [
    "%%time\n",
    "result = translator.tf_translate(input_text = input_text)"
   ]
  },
  {
   "cell_type": "code",
   "execution_count": 127,
   "id": "a14b5fea-42e2-4e2f-8cad-9e6c4754ae0b",
   "metadata": {},
   "outputs": [
    {
     "name": "stdout",
     "output_type": "stream",
     "text": [
      "it ' s really cold that .\n",
      "those ' s my life .\n",
      "\n",
      "CPU times: total: 875 ms\n",
      "Wall time: 290 ms\n"
     ]
    }
   ],
   "source": [
    "%%time\n",
    "result = translator.tf_translate(input_text=input_text)\n",
    "print(result['text'][0].numpy().decode())\n",
    "print(result['text'][1].numpy().decode())\n",
    "print()"
   ]
  },
  {
   "cell_type": "markdown",
   "id": "ef5791c9-4452-42ed-8f6d-4d91e08f357f",
   "metadata": {},
   "source": [
    "### [*] UTILISER UNE BOUCLE SYMBOLIQUE"
   ]
  },
  {
   "cell_type": "code",
   "execution_count": 128,
   "id": "3d0a2b4d-9124-4d1d-ba50-87884541bed2",
   "metadata": {},
   "outputs": [],
   "source": [
    "def translate_symbolic(self, input_text, *, max_length=50, return_attention=True, temperature=1.0):\n",
    "    shape_checker = ShapeChecker()\n",
    "    shape_checker(input_text, ('batch',))\n",
    "    batch_size = tf.shape(input_text)[0]\n",
    "\n",
    "    # Encode the input\n",
    "    input_tokens = self.input_text_processor(input_text)\n",
    "    shape_checker(input_tokens, ('batch', 's'))\n",
    "    enc_output, enc_state = self.encoder(input_tokens)\n",
    "    shape_checker(enc_output, ('batch', 's', 'enc_units'))\n",
    "    shape_checker(enc_state, ('batch', 'enc_units'))\n",
    "\n",
    "    # Initialize the decoder\n",
    "    dec_state = enc_state\n",
    "    new_tokens = tf.fill([batch_size, 1], self.start_token)\n",
    "    shape_checker(new_tokens, ('batch', 't1'))\n",
    "\n",
    "    # Initialize the accumulators\n",
    "    result_tokens = tf.TensorArray(tf.int64, size=1, dynamic_size=True)\n",
    "    attention = tf.TensorArray(tf.float32, size=1, dynamic_size=True)\n",
    "    done = tf.zeros([batch_size, 1], dtype=tf.bool)\n",
    "    shape_checker(done, ('batch', 't1'))\n",
    "\n",
    "    for t in tf.range(max_length):\n",
    "        dec_input = DecoderInput(\n",
    "            new_tokens=new_tokens, enc_output=enc_output, mask=(input_tokens != 0))\n",
    "\n",
    "        dec_result, dec_state = self.decoder(dec_input, state=dec_state)\n",
    "\n",
    "        shape_checker(dec_result.attention_weights, ('batch', 't1', 's'))\n",
    "        attention = attention.write(t, dec_result.attention_weights)\n",
    "\n",
    "        new_tokens = self.sample(dec_result.logits, temperature)\n",
    "        shape_checker(dec_result.logits, ('batch', 't1', 'vocab'))\n",
    "        shape_checker(new_tokens, ('batch', 't1'))\n",
    "\n",
    "        # If a sequence produces an `end_token`, set it `done`\n",
    "        done = done | (new_tokens == self.end_token)\n",
    "        # Once a sequence is done it only produces 0-padding.\n",
    "        new_tokens = tf.where(done, tf.constant(0, dtype=tf.int64), new_tokens)\n",
    "\n",
    "        # Collect the generated tokens\n",
    "        result_tokens = result_tokens.write(t, new_tokens)\n",
    "\n",
    "        if tf.reduce_all(done):\n",
    "            break\n",
    "\n",
    "    # Convert the list of generated token ids to a list of strings.\n",
    "    result_tokens = result_tokens.stack()\n",
    "    shape_checker(result_tokens, ('t', 'batch', 't0'))\n",
    "    result_tokens = tf.squeeze(result_tokens, -1)\n",
    "    result_tokens = tf.transpose(result_tokens, [1, 0])\n",
    "    shape_checker(result_tokens, ('batch', 't'))\n",
    "\n",
    "    result_text = self.tokens_to_text(result_tokens)\n",
    "    shape_checker(result_text, ('batch',))\n",
    "\n",
    "    if return_attention:\n",
    "        attention_stack = attention.stack()\n",
    "        shape_checker(attention_stack, ('t', 'batch', 't1', 's'))\n",
    "\n",
    "        attention_stack = tf.squeeze(attention_stack, 2)\n",
    "        shape_checker(attention_stack, ('t', 'batch', 's'))\n",
    "\n",
    "        attention_stack = tf.transpose(attention_stack, [1, 0, 2])\n",
    "        shape_checker(attention_stack, ('batch', 't', 's'))\n",
    "\n",
    "        return {'text': result_text, 'attention': attention_stack}\n",
    "    else:\n",
    "        return {'text': result_text}\n",
    "    \n",
    "Translator.translate = translate_symbolic"
   ]
  },
  {
   "cell_type": "code",
   "execution_count": 130,
   "id": "006db0c2-afae-4f0d-8696-8baf067fa2ea",
   "metadata": {},
   "outputs": [
    {
     "name": "stdout",
     "output_type": "stream",
     "text": [
      "it ' s really cold here .\n",
      "this is my life .\n",
      "\n",
      "CPU times: total: 734 ms\n",
      "Wall time: 580 ms\n"
     ]
    }
   ],
   "source": [
    "%%time\n",
    "result = translator.translate(input_text=input_text)\n",
    "print(result['text'][0].numpy().decode())\n",
    "print(result['text'][1].numpy().decode())\n",
    "print()"
   ]
  },
  {
   "cell_type": "code",
   "execution_count": 131,
   "id": "57327a6b-6e4b-4b06-bb2a-91f69d16a4bf",
   "metadata": {},
   "outputs": [],
   "source": [
    "@tf.function(input_signature=[tf.TensorSpec(dtype=tf.string, shape=[None])])\n",
    "def tf_translate(self, input_text):\n",
    "    return self.translate(input_text)\n",
    "Translator.tf_translate = tf_translate"
   ]
  },
  {
   "cell_type": "code",
   "execution_count": 132,
   "id": "94321548-a418-4206-88c3-12d308cd8fcd",
   "metadata": {},
   "outputs": [
    {
     "name": "stdout",
     "output_type": "stream",
     "text": [
      "it ' s really cold around here .\n",
      "this is my life .\n",
      "\n",
      "CPU times: total: 859 ms\n",
      "Wall time: 762 ms\n"
     ]
    }
   ],
   "source": [
    "%%time\n",
    "result = translator.translate(input_text=input_text)\n",
    "print(result['text'][0].numpy().decode())\n",
    "print(result['text'][1].numpy().decode())\n",
    "print()"
   ]
  },
  {
   "cell_type": "markdown",
   "id": "1dcf6ec0-66f7-4145-b8b1-1c5a8acabbbb",
   "metadata": {},
   "source": [
    "### VISUALIZE THE PROCESSUS"
   ]
  },
  {
   "cell_type": "code",
   "execution_count": 133,
   "id": "0634556d-7983-4af1-865e-93e5a4fad79a",
   "metadata": {},
   "outputs": [
    {
     "name": "stdout",
     "output_type": "stream",
     "text": [
      "[1.         0.99999994 1.         1.         1.         1.\n",
      " 1.0000001  0.9999999  1.        ]\n"
     ]
    }
   ],
   "source": [
    "a = result['attention'][0]\n",
    "print(np.sum(a, axis=-1))"
   ]
  },
  {
   "cell_type": "code",
   "execution_count": 134,
   "id": "b7e11caf-e19a-4928-b4fa-24903a3623cb",
   "metadata": {},
   "outputs": [
    {
     "data": {
      "image/png": "[encoded data removed]",
      "text/plain": [
       "<Figure size 640x480 with 1 Axes>"
      ]
     },
     "metadata": {},
     "output_type": "display_data"
    }
   ],
   "source": [
    "_ = plt.bar(range(len(a[0, :])), a[0, :])"
   ]
  },
  {
   "cell_type": "code",
   "execution_count": 135,
   "id": "2ec792cd-3305-4ced-ae7f-d31f7702f89c",
   "metadata": {},
   "outputs": [
    {
     "data": {
      "text/plain": [
       "<matplotlib.image.AxesImage at 0x205d404ea40>"
      ]
     },
     "execution_count": 135,
     "metadata": {},
     "output_type": "execute_result"
    },
    {
     "data": {
      "image/png": "[encoded data removed]",
      "text/plain": [
       "<Figure size 640x480 with 1 Axes>"
      ]
     },
     "metadata": {},
     "output_type": "display_data"
    }
   ],
   "source": [
    "plt.imshow(np.array(a), vmin=0.0)"
   ]
  },
  {
   "cell_type": "markdown",
   "id": "d7e8a4d4-9d9d-458e-9735-2c37052085ce",
   "metadata": {},
   "source": [
    "PLOT ATTENTION"
   ]
  },
  {
   "cell_type": "code",
   "execution_count": 136,
   "id": "b2d8828b-9be0-4e70-8055-ea25dd6873ab",
   "metadata": {},
   "outputs": [],
   "source": [
    "def plot_attention(attention, sentence, predicted_sentence):\n",
    "    sentence = tf_lower_and_split_punct(sentence).numpy().decode().split()\n",
    "    predicted_sentence = predicted_sentence.numpy().decode().split() + ['[END]']\n",
    "    fig = plt.figure(figsize=(10, 10))\n",
    "    ax = fig.add_subplot(1, 1, 1)\n",
    "\n",
    "    attention = attention[:len(predicted_sentence), :len(sentence)]\n",
    "\n",
    "    ax.matshow(attention, cmap='viridis', vmin=0.0)\n",
    "\n",
    "    fontdict = {'fontsize': 14}\n",
    "\n",
    "    ax.set_xticklabels([''] + sentence, fontdict=fontdict, rotation=90)\n",
    "    ax.set_yticklabels([''] + predicted_sentence, fontdict=fontdict)\n",
    "\n",
    "    ax.xaxis.set_major_locator(ticker.MultipleLocator(1))\n",
    "    ax.yaxis.set_major_locator(ticker.MultipleLocator(1))\n",
    "\n",
    "    ax.set_xlabel('Input text')\n",
    "    ax.set_ylabel('Output text')\n",
    "    plt.suptitle('Attention weights')"
   ]
  },
  {
   "cell_type": "code",
   "execution_count": 137,
   "id": "defdbb15-bc75-4218-9a3c-ef1ef73651ad",
   "metadata": {},
   "outputs": [
    {
     "name": "stderr",
     "output_type": "stream",
     "text": [
      "C:\\Users\\RAKOTONDRAVAO\\AppData\\Local\\Temp\\ipykernel_10800\\1837363767.py:13: UserWarning: FixedFormatter should only be used together with FixedLocator\n",
      "  ax.set_xticklabels([''] + sentence, fontdict=fontdict, rotation=90)\n",
      "C:\\Users\\RAKOTONDRAVAO\\AppData\\Local\\Temp\\ipykernel_10800\\1837363767.py:14: UserWarning: FixedFormatter should only be used together with FixedLocator\n",
      "  ax.set_yticklabels([''] + predicted_sentence, fontdict=fontdict)\n"
     ]
    },
    {
     "data": {
      "image/png": "[encoded data removed]",
      "text/plain": [
       "<Figure size 1000x1000 with 1 Axes>"
      ]
     },
     "metadata": {},
     "output_type": "display_data"
    }
   ],
   "source": [
    "i=0\n",
    "plot_attention(result['attention'][i], input_text[i], result['text'][i])"
   ]
  },
  {
   "cell_type": "markdown",
   "id": "25c74a16-e7b3-423e-b0d3-68278d01ed2e",
   "metadata": {},
   "source": [
    "TRANSLATE SOME SUPPLEMENTARY SENTENCE AND DRAW IT"
   ]
  },
  {
   "cell_type": "code",
   "execution_count": 138,
   "id": "2bea2d42-c26f-4d5d-a2e7-9f0db110f430",
   "metadata": {},
   "outputs": [
    {
     "name": "stdout",
     "output_type": "stream",
     "text": [
      "my life .\n",
      "are these still at home ?\n",
      "there ' s something trying to find .\n",
      "\n",
      "CPU times: total: 3.06 s\n",
      "Wall time: 2.56 s\n"
     ]
    }
   ],
   "source": [
    "%%time\n",
    "three_input_text = tf.constant([\n",
    "    'C\\'est ma vie.',\n",
    "    'Sont-ils toujours a la maison?',\n",
    "    'Essayer de trouver.'\n",
    "])\n",
    "result = translator.tf_translate(three_input_text)\n",
    "for tr in result['text']:\n",
    "    print(tr.numpy().decode())\n",
    "print()"
   ]
  },
  {
   "cell_type": "code",
   "execution_count": 139,
   "id": "533fb63b-e1ef-44f6-bb78-74c094fa2774",
   "metadata": {},
   "outputs": [
    {
     "data": {
      "text/plain": [
       "<tf.Tensor: shape=(3,), dtype=string, numpy=\n",
       "array([b'my life .', b'are these still at home ?',\n",
       "       b\"there ' s something trying to find .\"], dtype=object)>"
      ]
     },
     "execution_count": 139,
     "metadata": {},
     "output_type": "execute_result"
    }
   ],
   "source": [
    "result['text']"
   ]
  },
  {
   "cell_type": "code",
   "execution_count": 140,
   "id": "c7bede61-209e-4ed9-803e-ac30b26ae180",
   "metadata": {},
   "outputs": [
    {
     "name": "stderr",
     "output_type": "stream",
     "text": [
      "C:\\Users\\RAKOTONDRAVAO\\AppData\\Local\\Temp\\ipykernel_10800\\1837363767.py:13: UserWarning: FixedFormatter should only be used together with FixedLocator\n",
      "  ax.set_xticklabels([''] + sentence, fontdict=fontdict, rotation=90)\n",
      "C:\\Users\\RAKOTONDRAVAO\\AppData\\Local\\Temp\\ipykernel_10800\\1837363767.py:14: UserWarning: FixedFormatter should only be used together with FixedLocator\n",
      "  ax.set_yticklabels([''] + predicted_sentence, fontdict=fontdict)\n"
     ]
    },
    {
     "data": {
      "image/png": "[encoded data removed]",
      "text/plain": [
       "<Figure size 1000x1000 with 1 Axes>"
      ]
     },
     "metadata": {},
     "output_type": "display_data"
    }
   ],
   "source": [
    "i=0\n",
    "plot_attention(result['attention'][i], three_input_text[i], result['text'][i])"
   ]
  },
  {
   "cell_type": "markdown",
   "id": "715ae235-f69c-4ad2-8a13-fa0a547820be",
   "metadata": {},
   "source": [
    "TEST IT TO LONG SENTENCE"
   ]
  },
  {
   "cell_type": "code",
   "execution_count": 141,
   "id": "9447eb36-d032-486d-a69a-6e4e21e2f66a",
   "metadata": {},
   "outputs": [
    {
     "name": "stdout",
     "output_type": "stream",
     "text": [
      "Output:\n",
      " It may be impossible to get a completely error-free corpus due to the\n",
      "nature of this kind of collaborative effort. However, if we encourage\n",
      "members to contribute sentences in their own languages rather than\n",
      "experiment in languages they are learning, we might be able to\n",
      "minimize errors.\n"
     ]
    }
   ],
   "source": [
    "long_input_text = tf.constant([inp[-1]])\n",
    "import textwrap\n",
    "print('Output:\\n', '\\n'.join(textwrap.wrap(targ[-1])))"
   ]
  },
  {
   "cell_type": "code",
   "execution_count": 143,
   "id": "137a4f98-207a-437f-b7e1-5947ceb037cf",
   "metadata": {},
   "outputs": [
    {
     "name": "stderr",
     "output_type": "stream",
     "text": [
      "C:\\Users\\RAKOTONDRAVAO\\AppData\\Local\\Temp\\ipykernel_10800\\1837363767.py:13: UserWarning: FixedFormatter should only be used together with FixedLocator\n",
      "  ax.set_xticklabels([''] + sentence, fontdict=fontdict, rotation=90)\n",
      "C:\\Users\\RAKOTONDRAVAO\\AppData\\Local\\Temp\\ipykernel_10800\\1837363767.py:14: UserWarning: FixedFormatter should only be used together with FixedLocator\n",
      "  ax.set_yticklabels([''] + predicted_sentence, fontdict=fontdict)\n"
     ]
    },
    {
     "data": {
      "image/png": "[encoded data removed]",
      "text/plain": [
       "<Figure size 1000x1000 with 1 Axes>"
      ]
     },
     "metadata": {},
     "output_type": "display_data"
    }
   ],
   "source": [
    "result = translator.tf_translate(long_input_text)\n",
    "i=0\n",
    "plot_attention(result['attention'][i], long_input_text[i], result['text'][i])\n",
    "_ = plt.suptitle('This never works')"
   ]
  },
  {
   "cell_type": "markdown",
   "id": "ad7f644c-ab58-4837-a983-d4c5839718b1",
   "metadata": {},
   "source": [
    "### EXPORTATION"
   ]
  },
  {
   "cell_type": "code",
   "execution_count": 144,
   "id": "c22a854e-b9f3-4fb0-8d87-34caa0d3dd5c",
   "metadata": {},
   "outputs": [
    {
     "name": "stderr",
     "output_type": "stream",
     "text": [
      "WARNING:absl:Found untraced functions such as encoder_8_layer_call_fn, encoder_8_layer_call_and_return_conditional_losses, decoder_4_layer_call_fn, decoder_4_layer_call_and_return_conditional_losses, embedding_12_layer_call_fn while saving (showing 5 of 24). These functions will not be directly callable after loading.\n"
     ]
    },
    {
     "name": "stdout",
     "output_type": "stream",
     "text": [
      "INFO:tensorflow:Assets written to: translator\\assets\n"
     ]
    },
    {
     "name": "stderr",
     "output_type": "stream",
     "text": [
      "INFO:tensorflow:Assets written to: translator\\assets\n"
     ]
    }
   ],
   "source": [
    "tf.saved_model.save(translator, 'translator', signatures={'serving_default': translator.tf_translate})"
   ]
  },
  {
   "cell_type": "code",
   "execution_count": null,
   "id": "4597e6e2-7d9f-4377-9f23-0f2b7d7eccfb",
   "metadata": {},
   "outputs": [],
   "source": []
  }
 ],
 "metadata": {
  "kernelspec": {
   "display_name": "Python 3 (ipykernel)",
   "language": "python",
   "name": "python3"
  },
  "language_info": {
   "codemirror_mode": {
    "name": "ipython",
    "version": 3
   },
   "file_extension": ".py",
   "mimetype": "text/x-python",
   "name": "python",
   "nbconvert_exporter": "python",
   "pygments_lexer": "ipython3",
   "version": "3.10.8"
  }
 },
 "nbformat": 4,
 "nbformat_minor": 5
}
